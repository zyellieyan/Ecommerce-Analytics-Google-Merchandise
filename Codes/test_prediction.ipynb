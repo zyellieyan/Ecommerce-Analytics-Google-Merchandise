{
 "cells": [
  {
   "cell_type": "code",
   "execution_count": 1,
   "metadata": {},
   "outputs": [],
   "source": [
    "import pandas as pd \n",
    "import numpy as np\n",
    "import seaborn as sns\n",
    "pd.set_option('max_columns',200)\n",
    "pd.set_option('max_rows',200)\n",
    "\n",
    "import matplotlib.pyplot as plt\n",
    "%matplotlib inline\n",
    "\n",
    "from sklearn.ensemble import RandomForestRegressor\n",
    "#记住这里是在做regression，所以import的是randomforestregressor\n",
    "\n",
    "from sklearn.metrics import mean_squared_error\n",
    "from math import sqrt"
   ]
  },
  {
   "cell_type": "code",
   "execution_count": 5,
   "metadata": {},
   "outputs": [
    {
     "name": "stderr",
     "output_type": "stream",
     "text": [
      "/opt/anaconda3/lib/python3.7/site-packages/IPython/core/interactiveshell.py:3058: DtypeWarning: Columns (9) have mixed types. Specify dtype option on import or set low_memory=False.\n",
      "  interactivity=interactivity, compiler=compiler, result=result)\n"
     ]
    }
   ],
   "source": [
    "test = pd.read_csv('test_data_agg 2.csv')"
   ]
  },
  {
   "cell_type": "code",
   "execution_count": 6,
   "metadata": {},
   "outputs": [
    {
     "data": {
      "text/plain": [
       "Index(['Group.1', 'channelGrouping(Other)', 'channelGroupingAffiliates',\n",
       "       'channelGroupingDirect', 'channelGroupingDisplay',\n",
       "       'channelGroupingOrganic Search', 'channelGroupingPaid Search',\n",
       "       'channelGroupingReferral', 'channelGroupingSocial', 'fullVisitorId',\n",
       "       'visitId', 'visitNumber', 'visitStartTime',\n",
       "       'device.deviceCategorydesktop', 'device.deviceCategorymobile',\n",
       "       'device.deviceCategorytablet', 'geoNetwork.continentAfrica',\n",
       "       'geoNetwork.continentAmericas', 'geoNetwork.continentAsia',\n",
       "       'geoNetwork.continentEurope', 'geoNetwork.continentOceania',\n",
       "       'totals.visits', 'totals.hits', 'totals.pageviews', 'totals.bounces',\n",
       "       'totals.newVisits', 'trafficSource.isTrueDirect',\n",
       "       'trafficSource.adwordsClickInfo.isVideoAd', 'weekday', 'month.1',\n",
       "       'month.2', 'month.3', 'month.4', 'month.5', 'month.6', 'month.7',\n",
       "       'month.8', 'month.9', 'month.10', 'month.11', 'month.12', 'ad_page_1',\n",
       "       'GoogleSearch', 'browser_Chrome', 'browser_Safari', 'browser_Firefox',\n",
       "       'browser_IE', 'browser_AndroidWebview', 'browser_Safariapp',\n",
       "       'browser_OperaMini', 'browser_Opera', 'device.operatingSystem.iOS',\n",
       "       'device.operatingSystem.Linux', 'device.operatingSystem.Macintosh',\n",
       "       'device.operatingSystem.Windows', 'device.operatingSystem.Android',\n",
       "       'device.operatingSystem.Chrome.OS',\n",
       "       'geoNetwork.subContinent.Northern.America', 'geoNetwork.country.Brazil',\n",
       "       'geoNetwork.country.Canada', 'geoNetwork.country.Germany',\n",
       "       'geoNetwork.country.India', 'geoNetwork.country.Japan',\n",
       "       'geoNetwork.country.Thailand', 'geoNetwork.country.Turkey',\n",
       "       'geoNetwork.country.United.Kingdom', 'geoNetwork.country.United.States',\n",
       "       'geoNetwork.country.Vietnam', 'geoNetwork.city.London',\n",
       "       'geoNetwork.city.Los.Angeles', 'geoNetwork.city.Mountain.View',\n",
       "       'geoNetwork.city.New.York', 'geoNetwork.city.San.Francisco',\n",
       "       'geoNetwork.city.San.Jose', 'geoNetwork.city.Sunnyvale', 'isCampaign',\n",
       "       'trafficSource.adwordsClickInfo.slot.RHS',\n",
       "       'trafficSource.adwordsClickInfo.slot.Top', 'device.browser.CSM.Click'],\n",
       "      dtype='object')"
      ]
     },
     "execution_count": 6,
     "metadata": {},
     "output_type": "execute_result"
    }
   ],
   "source": [
    "test.columns"
   ]
  },
  {
   "cell_type": "code",
   "execution_count": 8,
   "metadata": {},
   "outputs": [],
   "source": [
    "columns_drop=['Group.1','channelGrouping(Other)','channelGroupingAffiliates','geoNetwork.country.Germany',\n",
    "              'geoNetwork.country.India','geoNetwork.country.Brazil','geoNetwork.country.United.Kingdom',\n",
    "             'geoNetwork.country.Japan','geoNetwork.country.Thailand','geoNetwork.country.Turkey','geoNetwork.country.Vietnam',\n",
    "              'geoNetwork.city.New.York','geoNetwork.city.Mountain.View','geoNetwork.city.London','geoNetwork.city.Sunnyvale',\n",
    "             'geoNetwork.city.Los.Angeles','geoNetwork.city.San.Francisco','geoNetwork.continentAfrica',\n",
    "       'geoNetwork.continentAmericas', 'geoNetwork.continentAsia',\n",
    "       'geoNetwork.continentEurope', 'geoNetwork.continentOceania','geoNetwork.subContinent.Northern.America',\n",
    "             'geoNetwork.city.San.Jose','browser_Chrome', 'browser_Safari', 'browser_Firefox',\n",
    "       'browser_IE','browser_OperaMini', 'browser_Opera','browser_AndroidWebview', 'browser_Safariapp','totals.newVisits',\n",
    "             'device.deviceCategorydesktop', 'device.deviceCategorymobile',\n",
    "       'device.deviceCategorytablet','device.operatingSystem.Linux','device.operatingSystem.iOS','device.operatingSystem.Android',\n",
    "             'trafficSource.adwordsClickInfo.slot.RHS',\n",
    "       'trafficSource.adwordsClickInfo.slot.Top', 'device.browser.CSM.Click','isCampaign','weekday','ad_page_1',\n",
    "             'channelGroupingSocial','totals.bounces','channelGroupingPaid Search','visitId','visitStartTime',\n",
    "             'trafficSource.adwordsClickInfo.isVideoAd','GoogleSearch']\n",
    "\n"
   ]
  },
  {
   "cell_type": "code",
   "execution_count": 9,
   "metadata": {},
   "outputs": [],
   "source": [
    "test_1 = test.drop(columns_drop,axis=1)"
   ]
  },
  {
   "cell_type": "code",
   "execution_count": 10,
   "metadata": {},
   "outputs": [
    {
     "data": {
      "text/plain": [
       "(356867, 27)"
      ]
     },
     "execution_count": 10,
     "metadata": {},
     "output_type": "execute_result"
    }
   ],
   "source": [
    "test_1.shape"
   ]
  },
  {
   "cell_type": "code",
   "execution_count": 11,
   "metadata": {},
   "outputs": [
    {
     "data": {
      "text/plain": [
       "Index(['channelGroupingDirect', 'channelGroupingDisplay',\n",
       "       'channelGroupingOrganic Search', 'channelGroupingReferral',\n",
       "       'fullVisitorId', 'visitNumber', 'totals.visits', 'totals.hits',\n",
       "       'totals.pageviews', 'trafficSource.isTrueDirect', 'month.1', 'month.2',\n",
       "       'month.3', 'month.4', 'month.5', 'month.6', 'month.7', 'month.8',\n",
       "       'month.9', 'month.10', 'month.11', 'month.12',\n",
       "       'device.operatingSystem.Macintosh', 'device.operatingSystem.Windows',\n",
       "       'device.operatingSystem.Chrome.OS', 'geoNetwork.country.Canada',\n",
       "       'geoNetwork.country.United.States'],\n",
       "      dtype='object')"
      ]
     },
     "execution_count": 11,
     "metadata": {},
     "output_type": "execute_result"
    }
   ],
   "source": [
    "test_1.columns"
   ]
  },
  {
   "cell_type": "code",
   "execution_count": 12,
   "metadata": {},
   "outputs": [],
   "source": [
    "test_1.to_csv('test_1.csv', index=None)"
   ]
  },
  {
   "cell_type": "code",
   "execution_count": 13,
   "metadata": {},
   "outputs": [
    {
     "name": "stderr",
     "output_type": "stream",
     "text": [
      "/opt/anaconda3/lib/python3.7/site-packages/IPython/core/interactiveshell.py:3058: DtypeWarning: Columns (5) have mixed types. Specify dtype option on import or set low_memory=False.\n",
      "  interactivity=interactivity, compiler=compiler, result=result)\n"
     ]
    },
    {
     "data": {
      "text/html": [
       "<div>\n",
       "<style scoped>\n",
       "    .dataframe tbody tr th:only-of-type {\n",
       "        vertical-align: middle;\n",
       "    }\n",
       "\n",
       "    .dataframe tbody tr th {\n",
       "        vertical-align: top;\n",
       "    }\n",
       "\n",
       "    .dataframe thead th {\n",
       "        text-align: right;\n",
       "    }\n",
       "</style>\n",
       "<table border=\"1\" class=\"dataframe\">\n",
       "  <thead>\n",
       "    <tr style=\"text-align: right;\">\n",
       "      <th></th>\n",
       "      <th>Unnamed: 0</th>\n",
       "      <th>channelGroupingDirect</th>\n",
       "      <th>channelGroupingDisplay</th>\n",
       "      <th>channelGroupingOrganic.Search</th>\n",
       "      <th>channelGroupingReferral</th>\n",
       "      <th>fullVisitorId</th>\n",
       "      <th>visitNumber</th>\n",
       "      <th>totals.hits</th>\n",
       "      <th>totals.pageviews</th>\n",
       "      <th>trafficSource.isTrueDirect</th>\n",
       "      <th>month.1</th>\n",
       "      <th>month.2</th>\n",
       "      <th>month.3</th>\n",
       "      <th>month.4</th>\n",
       "      <th>month.5</th>\n",
       "      <th>month.6</th>\n",
       "      <th>month.7</th>\n",
       "      <th>month.8</th>\n",
       "      <th>month.9</th>\n",
       "      <th>month.10</th>\n",
       "      <th>month.11</th>\n",
       "      <th>month.12</th>\n",
       "      <th>device.operatingSystem.Macintosh</th>\n",
       "      <th>device.operatingSystem.Windows</th>\n",
       "      <th>device.operatingSystem.Chrome.OS</th>\n",
       "      <th>geoNetwork.country.Canada</th>\n",
       "      <th>geoNetwork.country.United.States</th>\n",
       "      <th>dayFriday</th>\n",
       "      <th>dayMonday</th>\n",
       "      <th>daySaturday</th>\n",
       "      <th>daySunday</th>\n",
       "      <th>dayThursday</th>\n",
       "      <th>dayTuesday</th>\n",
       "      <th>dayWednesday</th>\n",
       "    </tr>\n",
       "  </thead>\n",
       "  <tbody>\n",
       "    <tr>\n",
       "      <th>0</th>\n",
       "      <td>1</td>\n",
       "      <td>0</td>\n",
       "      <td>0</td>\n",
       "      <td>1</td>\n",
       "      <td>0</td>\n",
       "      <td>4.8236e+12</td>\n",
       "      <td>1</td>\n",
       "      <td>1</td>\n",
       "      <td>1.0</td>\n",
       "      <td>0</td>\n",
       "      <td>0</td>\n",
       "      <td>0</td>\n",
       "      <td>0</td>\n",
       "      <td>0</td>\n",
       "      <td>0</td>\n",
       "      <td>0</td>\n",
       "      <td>0</td>\n",
       "      <td>0</td>\n",
       "      <td>0</td>\n",
       "      <td>0</td>\n",
       "      <td>1</td>\n",
       "      <td>0</td>\n",
       "      <td>0</td>\n",
       "      <td>1</td>\n",
       "      <td>0</td>\n",
       "      <td>0</td>\n",
       "      <td>0</td>\n",
       "      <td>0</td>\n",
       "      <td>0</td>\n",
       "      <td>0</td>\n",
       "      <td>0</td>\n",
       "      <td>0</td>\n",
       "      <td>1</td>\n",
       "      <td>0</td>\n",
       "    </tr>\n",
       "    <tr>\n",
       "      <th>1</th>\n",
       "      <td>2</td>\n",
       "      <td>0</td>\n",
       "      <td>0</td>\n",
       "      <td>1</td>\n",
       "      <td>0</td>\n",
       "      <td>1.02786e+13</td>\n",
       "      <td>1</td>\n",
       "      <td>11</td>\n",
       "      <td>8.0</td>\n",
       "      <td>0</td>\n",
       "      <td>0</td>\n",
       "      <td>0</td>\n",
       "      <td>0</td>\n",
       "      <td>0</td>\n",
       "      <td>0</td>\n",
       "      <td>0</td>\n",
       "      <td>0</td>\n",
       "      <td>0</td>\n",
       "      <td>0</td>\n",
       "      <td>1</td>\n",
       "      <td>0</td>\n",
       "      <td>0</td>\n",
       "      <td>1</td>\n",
       "      <td>0</td>\n",
       "      <td>0</td>\n",
       "      <td>0</td>\n",
       "      <td>0</td>\n",
       "      <td>0</td>\n",
       "      <td>0</td>\n",
       "      <td>0</td>\n",
       "      <td>0</td>\n",
       "      <td>1</td>\n",
       "      <td>0</td>\n",
       "      <td>0</td>\n",
       "    </tr>\n",
       "    <tr>\n",
       "      <th>2</th>\n",
       "      <td>3</td>\n",
       "      <td>0</td>\n",
       "      <td>0</td>\n",
       "      <td>1</td>\n",
       "      <td>0</td>\n",
       "      <td>2.04243e+13</td>\n",
       "      <td>1</td>\n",
       "      <td>17</td>\n",
       "      <td>13.0</td>\n",
       "      <td>0</td>\n",
       "      <td>0</td>\n",
       "      <td>0</td>\n",
       "      <td>0</td>\n",
       "      <td>0</td>\n",
       "      <td>0</td>\n",
       "      <td>0</td>\n",
       "      <td>0</td>\n",
       "      <td>0</td>\n",
       "      <td>0</td>\n",
       "      <td>0</td>\n",
       "      <td>1</td>\n",
       "      <td>0</td>\n",
       "      <td>0</td>\n",
       "      <td>1</td>\n",
       "      <td>0</td>\n",
       "      <td>0</td>\n",
       "      <td>0</td>\n",
       "      <td>0</td>\n",
       "      <td>0</td>\n",
       "      <td>0</td>\n",
       "      <td>0</td>\n",
       "      <td>0</td>\n",
       "      <td>0</td>\n",
       "      <td>1</td>\n",
       "    </tr>\n",
       "    <tr>\n",
       "      <th>3</th>\n",
       "      <td>4</td>\n",
       "      <td>0</td>\n",
       "      <td>0</td>\n",
       "      <td>0</td>\n",
       "      <td>0</td>\n",
       "      <td>3.94605e+13</td>\n",
       "      <td>1</td>\n",
       "      <td>2</td>\n",
       "      <td>2.0</td>\n",
       "      <td>0</td>\n",
       "      <td>0</td>\n",
       "      <td>0</td>\n",
       "      <td>1</td>\n",
       "      <td>0</td>\n",
       "      <td>0</td>\n",
       "      <td>0</td>\n",
       "      <td>0</td>\n",
       "      <td>0</td>\n",
       "      <td>0</td>\n",
       "      <td>0</td>\n",
       "      <td>0</td>\n",
       "      <td>0</td>\n",
       "      <td>0</td>\n",
       "      <td>1</td>\n",
       "      <td>0</td>\n",
       "      <td>0</td>\n",
       "      <td>0</td>\n",
       "      <td>0</td>\n",
       "      <td>1</td>\n",
       "      <td>0</td>\n",
       "      <td>0</td>\n",
       "      <td>0</td>\n",
       "      <td>0</td>\n",
       "      <td>0</td>\n",
       "    </tr>\n",
       "    <tr>\n",
       "      <th>4</th>\n",
       "      <td>5</td>\n",
       "      <td>0</td>\n",
       "      <td>0</td>\n",
       "      <td>0</td>\n",
       "      <td>1</td>\n",
       "      <td>4.54179e+13</td>\n",
       "      <td>1</td>\n",
       "      <td>2</td>\n",
       "      <td>2.0</td>\n",
       "      <td>0</td>\n",
       "      <td>1</td>\n",
       "      <td>0</td>\n",
       "      <td>0</td>\n",
       "      <td>0</td>\n",
       "      <td>0</td>\n",
       "      <td>0</td>\n",
       "      <td>0</td>\n",
       "      <td>0</td>\n",
       "      <td>0</td>\n",
       "      <td>0</td>\n",
       "      <td>0</td>\n",
       "      <td>0</td>\n",
       "      <td>0</td>\n",
       "      <td>0</td>\n",
       "      <td>1</td>\n",
       "      <td>0</td>\n",
       "      <td>1</td>\n",
       "      <td>1</td>\n",
       "      <td>0</td>\n",
       "      <td>0</td>\n",
       "      <td>0</td>\n",
       "      <td>0</td>\n",
       "      <td>0</td>\n",
       "      <td>0</td>\n",
       "    </tr>\n",
       "  </tbody>\n",
       "</table>\n",
       "</div>"
      ],
      "text/plain": [
       "   Unnamed: 0  channelGroupingDirect  channelGroupingDisplay  \\\n",
       "0           1                      0                       0   \n",
       "1           2                      0                       0   \n",
       "2           3                      0                       0   \n",
       "3           4                      0                       0   \n",
       "4           5                      0                       0   \n",
       "\n",
       "   channelGroupingOrganic.Search  channelGroupingReferral fullVisitorId  \\\n",
       "0                              1                        0    4.8236e+12   \n",
       "1                              1                        0   1.02786e+13   \n",
       "2                              1                        0   2.04243e+13   \n",
       "3                              0                        0   3.94605e+13   \n",
       "4                              0                        1   4.54179e+13   \n",
       "\n",
       "   visitNumber  totals.hits  totals.pageviews  trafficSource.isTrueDirect  \\\n",
       "0            1            1               1.0                           0   \n",
       "1            1           11               8.0                           0   \n",
       "2            1           17              13.0                           0   \n",
       "3            1            2               2.0                           0   \n",
       "4            1            2               2.0                           0   \n",
       "\n",
       "   month.1  month.2  month.3  month.4  month.5  month.6  month.7  month.8  \\\n",
       "0        0        0        0        0        0        0        0        0   \n",
       "1        0        0        0        0        0        0        0        0   \n",
       "2        0        0        0        0        0        0        0        0   \n",
       "3        0        0        1        0        0        0        0        0   \n",
       "4        1        0        0        0        0        0        0        0   \n",
       "\n",
       "   month.9  month.10  month.11  month.12  device.operatingSystem.Macintosh  \\\n",
       "0        0         0         1         0                                 0   \n",
       "1        0         1         0         0                                 1   \n",
       "2        0         0         1         0                                 0   \n",
       "3        0         0         0         0                                 0   \n",
       "4        0         0         0         0                                 0   \n",
       "\n",
       "   device.operatingSystem.Windows  device.operatingSystem.Chrome.OS  \\\n",
       "0                               1                                 0   \n",
       "1                               0                                 0   \n",
       "2                               1                                 0   \n",
       "3                               1                                 0   \n",
       "4                               0                                 1   \n",
       "\n",
       "   geoNetwork.country.Canada  geoNetwork.country.United.States  dayFriday  \\\n",
       "0                          0                                 0          0   \n",
       "1                          0                                 0          0   \n",
       "2                          0                                 0          0   \n",
       "3                          0                                 0          0   \n",
       "4                          0                                 1          1   \n",
       "\n",
       "   dayMonday  daySaturday  daySunday  dayThursday  dayTuesday  dayWednesday  \n",
       "0          0            0          0            0           1             0  \n",
       "1          0            0          0            1           0             0  \n",
       "2          0            0          0            0           0             1  \n",
       "3          1            0          0            0           0             0  \n",
       "4          0            0          0            0           0             0  "
      ]
     },
     "execution_count": 13,
     "metadata": {},
     "output_type": "execute_result"
    }
   ],
   "source": [
    "test = pd.read_csv('test1.csv')\n",
    "test.head()"
   ]
  },
  {
   "cell_type": "code",
   "execution_count": 14,
   "metadata": {},
   "outputs": [],
   "source": [
    "test = test.drop('Unnamed: 0',axis=1)"
   ]
  },
  {
   "cell_type": "code",
   "execution_count": 15,
   "metadata": {},
   "outputs": [
    {
     "data": {
      "text/plain": [
       "(356867, 33)"
      ]
     },
     "execution_count": 15,
     "metadata": {},
     "output_type": "execute_result"
    }
   ],
   "source": [
    "test.shape"
   ]
  },
  {
   "cell_type": "code",
   "execution_count": 16,
   "metadata": {},
   "outputs": [
    {
     "data": {
      "text/plain": [
       "Index(['channelGroupingDirect', 'channelGroupingDisplay',\n",
       "       'channelGroupingOrganic.Search', 'channelGroupingReferral',\n",
       "       'fullVisitorId', 'visitNumber', 'totals.hits', 'totals.pageviews',\n",
       "       'trafficSource.isTrueDirect', 'month.1', 'month.2', 'month.3',\n",
       "       'month.4', 'month.5', 'month.6', 'month.7', 'month.8', 'month.9',\n",
       "       'month.10', 'month.11', 'month.12', 'device.operatingSystem.Macintosh',\n",
       "       'device.operatingSystem.Windows', 'device.operatingSystem.Chrome.OS',\n",
       "       'geoNetwork.country.Canada', 'geoNetwork.country.United.States',\n",
       "       'dayFriday', 'dayMonday', 'daySaturday', 'daySunday', 'dayThursday',\n",
       "       'dayTuesday', 'dayWednesday'],\n",
       "      dtype='object')"
      ]
     },
     "execution_count": 16,
     "metadata": {},
     "output_type": "execute_result"
    }
   ],
   "source": [
    "test.columns "
   ]
  },
  {
   "cell_type": "code",
   "execution_count": null,
   "metadata": {},
   "outputs": [],
   "source": []
  }
 ],
 "metadata": {
  "kernelspec": {
   "display_name": "Python 3",
   "language": "python",
   "name": "python3"
  },
  "language_info": {
   "codemirror_mode": {
    "name": "ipython",
    "version": 3
   },
   "file_extension": ".py",
   "mimetype": "text/x-python",
   "name": "python",
   "nbconvert_exporter": "python",
   "pygments_lexer": "ipython3",
   "version": "3.7.4"
  },
  "toc": {
   "base_numbering": 1,
   "nav_menu": {},
   "number_sections": true,
   "sideBar": true,
   "skip_h1_title": false,
   "title_cell": "Table of Contents",
   "title_sidebar": "Contents",
   "toc_cell": false,
   "toc_position": {},
   "toc_section_display": true,
   "toc_window_display": false
  }
 },
 "nbformat": 4,
 "nbformat_minor": 2
}
